{
 "cells": [
  {
   "cell_type": "code",
   "execution_count": 102,
   "metadata": {},
   "outputs": [
    {
     "name": "stdout",
     "output_type": "stream",
     "text": [
      "['Ram', 'Sam', 'Sita', 'Geeta', 'Ritu', 'Guru', 'kate', 'Kirk']\n"
     ]
    }
   ],
   "source": [
    "students=['Ram','Sam','Sita','Geeta','Ritu','Guru','kate','Kirk']\n",
    "print(students)\n"
   ]
  },
  {
   "cell_type": "code",
   "execution_count": 103,
   "metadata": {},
   "outputs": [
    {
     "data": {
      "text/plain": [
       "list"
      ]
     },
     "execution_count": 103,
     "metadata": {},
     "output_type": "execute_result"
    }
   ],
   "source": [
    "type(students)"
   ]
  },
  {
   "cell_type": "code",
   "execution_count": 104,
   "metadata": {},
   "outputs": [
    {
     "data": {
      "text/plain": [
       "8"
      ]
     },
     "execution_count": 104,
     "metadata": {},
     "output_type": "execute_result"
    }
   ],
   "source": [
    "len(students)"
   ]
  },
  {
   "cell_type": "code",
   "execution_count": 105,
   "metadata": {},
   "outputs": [
    {
     "name": "stdout",
     "output_type": "stream",
     "text": [
      "Ram\n"
     ]
    }
   ],
   "source": [
    "print(students[0].title())"
   ]
  },
  {
   "cell_type": "code",
   "execution_count": 106,
   "metadata": {},
   "outputs": [
    {
     "name": "stdout",
     "output_type": "stream",
     "text": [
      "Kirk\n"
     ]
    }
   ],
   "source": [
    "#first letter caps\n",
    "print(students[-1].title())"
   ]
  },
  {
   "cell_type": "code",
   "execution_count": 107,
   "metadata": {},
   "outputs": [
    {
     "name": "stdout",
     "output_type": "stream",
     "text": [
      "GURU\n"
     ]
    }
   ],
   "source": [
    "# all letters in the name Caps\n",
    "print(students[-3].upper())"
   ]
  },
  {
   "cell_type": "code",
   "execution_count": 108,
   "metadata": {},
   "outputs": [
    {
     "name": "stdout",
     "output_type": "stream",
     "text": [
      "['Ram', 'Sam', 'Sita', 'Geeta', 'Ritu', 'Guru', 'kate', 'Kirk']\n",
      "['Ram', 'Sam', 'Sita', 'Geeta', 'Ritu', 'Guru', 'kate', 'Kirk', 'Harika']\n"
     ]
    }
   ],
   "source": [
    "print(students)\n",
    "students.append('Harika')\n",
    "print(students)"
   ]
  },
  {
   "cell_type": "code",
   "execution_count": 109,
   "metadata": {},
   "outputs": [
    {
     "name": "stdout",
     "output_type": "stream",
     "text": [
      "['kamal', 'Ram', 'Sam', 'Sita', 'Geeta', 'Ritu', 'Guru', 'kate', 'Kirk', 'Harika']\n"
     ]
    }
   ],
   "source": [
    "students.insert(0,'kamal')\n",
    "print(students)"
   ]
  },
  {
   "cell_type": "code",
   "execution_count": 110,
   "metadata": {},
   "outputs": [
    {
     "name": "stdout",
     "output_type": "stream",
     "text": [
      "['kamal', 'Ram', 'Sam', 'Sita', 'Geeta', 'radhi', 'Ritu', 'Guru', 'kate', 'Kirk', 'Harika']\n"
     ]
    }
   ],
   "source": [
    "students.insert(-5,'radhi')\n",
    "print(students)"
   ]
  },
  {
   "cell_type": "code",
   "execution_count": 117,
   "metadata": {},
   "outputs": [
    {
     "name": "stdout",
     "output_type": "stream",
     "text": [
      "['kamal', 'Ram', 'Sam', 'Geeta', 'radhi', 'Ritu', 'Guru', 'kate', 'Kirk', 'Harika']\n"
     ]
    }
   ],
   "source": [
    "#removing element\n",
    "students.pop(3)\n",
    "print(students)"
   ]
  },
  {
   "cell_type": "code",
   "execution_count": 119,
   "metadata": {},
   "outputs": [
    {
     "name": "stdout",
     "output_type": "stream",
     "text": [
      "['kamal', 'Ram', 'Sam', 'Geeta', 'radhi', 'Ritu', 'Guru', 'kate', 'Kirk']\n"
     ]
    }
   ],
   "source": [
    "students.pop()\n",
    "print(students)"
   ]
  },
  {
   "cell_type": "code",
   "execution_count": 120,
   "metadata": {},
   "outputs": [
    {
     "name": "stdout",
     "output_type": "stream",
     "text": [
      "['kamal', 'Ram', 'Sam', 'Geeta', 'radhi', 'Ritu', 'Guru', 'kate']\n"
     ]
    }
   ],
   "source": [
    "students.pop()\n",
    "print(students)"
   ]
  },
  {
   "cell_type": "code",
   "execution_count": 121,
   "metadata": {},
   "outputs": [
    {
     "name": "stdout",
     "output_type": "stream",
     "text": [
      "['kamal', 'Ram', 'Sam', 'Geeta', 'radhi', 'Ritu', 'Guru']\n"
     ]
    }
   ],
   "source": [
    "students.pop(-1)\n",
    "print(students)"
   ]
  },
  {
   "cell_type": "code",
   "execution_count": 122,
   "metadata": {},
   "outputs": [
    {
     "name": "stdout",
     "output_type": "stream",
     "text": [
      "['Ram', 'Sam', 'Geeta', 'radhi', 'Ritu', 'Guru']\n"
     ]
    }
   ],
   "source": [
    "students.pop(0)\n",
    "print(students)"
   ]
  },
  {
   "cell_type": "code",
   "execution_count": 124,
   "metadata": {},
   "outputs": [
    {
     "name": "stdout",
     "output_type": "stream",
     "text": [
      "['Ram', 'Sam', 'Geeta', 'Ritu', 'Guru']\n"
     ]
    }
   ],
   "source": [
    "del students[3]\n",
    "print(students)"
   ]
  },
  {
   "cell_type": "code",
   "execution_count": 125,
   "metadata": {},
   "outputs": [
    {
     "name": "stdout",
     "output_type": "stream",
     "text": [
      "['Ram', 'Sam', 'Geeta', 'Ritu', 'Guru']\n"
     ]
    }
   ],
   "source": [
    "print(students)"
   ]
  },
  {
   "cell_type": "code",
   "execution_count": 126,
   "metadata": {},
   "outputs": [
    {
     "data": {
      "text/plain": [
       "'Sam'"
      ]
     },
     "execution_count": 126,
     "metadata": {},
     "output_type": "execute_result"
    }
   ],
   "source": [
    "students.pop(1)"
   ]
  },
  {
   "cell_type": "code",
   "execution_count": 128,
   "metadata": {},
   "outputs": [
    {
     "name": "stdout",
     "output_type": "stream",
     "text": [
      "['Ram', 'Sam', 'Geeta', 'Harika', 'Ritu', 'Guru']\n"
     ]
    }
   ],
   "source": [
    "new_students=['Ram', 'Sam', 'Geeta','Harika', 'Ritu', 'Guru']\n",
    "print(new_students)"
   ]
  },
  {
   "cell_type": "code",
   "execution_count": 135,
   "metadata": {},
   "outputs": [
    {
     "name": "stdout",
     "output_type": "stream",
     "text": [
      "['Geeta', 'Guru', 'Harika', 'Ram', 'Ritu', 'Sam']\n"
     ]
    }
   ],
   "source": [
    "#sorted for temporary sorting\n",
    "print (sorted(new_students))"
   ]
  },
  {
   "cell_type": "code",
   "execution_count": 136,
   "metadata": {},
   "outputs": [
    {
     "name": "stdout",
     "output_type": "stream",
     "text": [
      "['Ram', 'Sam', 'Geeta', 'Harika', 'Ritu', 'Guru']\n"
     ]
    }
   ],
   "source": [
    "print(new_students)"
   ]
  },
  {
   "cell_type": "code",
   "execution_count": 139,
   "metadata": {},
   "outputs": [
    {
     "name": "stdout",
     "output_type": "stream",
     "text": [
      "['Geeta', 'Guru', 'Harika', 'Ram', 'Ritu', 'Sam']\n"
     ]
    }
   ],
   "source": [
    "#sort for permanetly sorting\n",
    "new_students.sort()\n",
    "print(new_students)"
   ]
  },
  {
   "cell_type": "code",
   "execution_count": 140,
   "metadata": {},
   "outputs": [
    {
     "name": "stdout",
     "output_type": "stream",
     "text": [
      "['Geeta', 'Guru', 'Harika', 'Ram', 'Ritu', 'Sam']\n"
     ]
    }
   ],
   "source": [
    "print(new_students)\n"
   ]
  },
  {
   "cell_type": "code",
   "execution_count": 142,
   "metadata": {},
   "outputs": [
    {
     "name": "stdout",
     "output_type": "stream",
     "text": [
      "['Sam', 'Ritu', 'Ram', 'Harika', 'Guru', 'Geeta']\n"
     ]
    }
   ],
   "source": [
    "new_students.sort(reverse=True)\n",
    "print(new_students)"
   ]
  },
  {
   "cell_type": "code",
   "execution_count": 143,
   "metadata": {},
   "outputs": [
    {
     "name": "stdout",
     "output_type": "stream",
     "text": [
      "['Geeta', 'Guru', 'Harika', 'Ram', 'Ritu', 'Sam']\n"
     ]
    }
   ],
   "source": [
    "new_students.sort(reverse=False)\n",
    "print(new_students)"
   ]
  },
  {
   "cell_type": "code",
   "execution_count": 144,
   "metadata": {},
   "outputs": [
    {
     "name": "stdout",
     "output_type": "stream",
     "text": [
      "['Geeta', 'Guru', 'Harika', 'Ram', 'Ritu', 'Sam']\n"
     ]
    }
   ],
   "source": [
    "print(new_students)"
   ]
  },
  {
   "cell_type": "code",
   "execution_count": null,
   "metadata": {},
   "outputs": [],
   "source": []
  }
 ],
 "metadata": {
  "kernelspec": {
   "display_name": "Python 3",
   "language": "python",
   "name": "python3"
  },
  "language_info": {
   "codemirror_mode": {
    "name": "ipython",
    "version": 3
   },
   "file_extension": ".py",
   "mimetype": "text/x-python",
   "name": "python",
   "nbconvert_exporter": "python",
   "pygments_lexer": "ipython3",
   "version": "3.7.4"
  }
 },
 "nbformat": 4,
 "nbformat_minor": 2
}
