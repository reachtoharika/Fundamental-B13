{
 "cells": [
  {
   "cell_type": "code",
   "execution_count": 5,
   "metadata": {},
   "outputs": [
    {
     "name": "stdout",
     "output_type": "stream",
     "text": [
      "{'harika': 'python', 'kiran': 'c++', 'sarika': 'java', 'lalli': 'scala'}\n"
     ]
    },
    {
     "data": {
      "text/plain": [
       "dict"
      ]
     },
     "execution_count": 5,
     "metadata": {},
     "output_type": "execute_result"
    }
   ],
   "source": [
    "user_0={'harika':'python','kiran':'c++','sarika':'java','lalli':'scala'}\n",
    "print(user_0)\n",
    "type(user_0)"
   ]
  },
  {
   "cell_type": "code",
   "execution_count": 12,
   "metadata": {},
   "outputs": [
    {
     "name": "stdout",
     "output_type": "stream",
     "text": [
      "\n",
      "key:harika\n",
      "value:python\n",
      "\n",
      "key:kiran\n",
      "value:c++\n",
      "\n",
      "key:sarika\n",
      "value:java\n",
      "\n",
      "key:lalli\n",
      "value:scala\n"
     ]
    }
   ],
   "source": [
    "for key,value in user_0.items():\n",
    "    print(f\"\\nkey:{key}\")\n",
    "    print(f\"value:{value}\")"
   ]
  },
  {
   "cell_type": "code",
   "execution_count": 14,
   "metadata": {},
   "outputs": [
    {
     "name": "stdout",
     "output_type": "stream",
     "text": [
      "\n",
      "key:harika\n",
      "value:python\n",
      "\n",
      "key:kiran\n",
      "value:c++\n",
      "\n",
      "key:sarika\n",
      "value:java\n",
      "\n",
      "key:lalli\n",
      "value:scala\n"
     ]
    }
   ],
   "source": [
    "for a,b in user_0.items():\n",
    "    print(f\"\\nkey:{a}\")\n",
    "    print(f\"value:{b}\")"
   ]
  },
  {
   "cell_type": "code",
   "execution_count": 35,
   "metadata": {},
   "outputs": [
    {
     "name": "stdout",
     "output_type": "stream",
     "text": [
      "\n",
      "name:harika\n",
      "sub:python\n",
      "\n",
      "name:kiran\n",
      "sub:c++\n",
      "\n",
      "name:sarika\n",
      "sub:java\n",
      "\n",
      "name:lalli\n",
      "sub:scala\n"
     ]
    }
   ],
   "source": [
    "for x,y in user_0.items():\n",
    "    print(f\"\\nname:{x}\")\n",
    "    print(f\"sub:{y}\")"
   ]
  },
  {
   "cell_type": "code",
   "execution_count": 29,
   "metadata": {},
   "outputs": [
    {
     "name": "stdout",
     "output_type": "stream",
     "text": [
      "harika\n",
      "kiran\n",
      "sarika\n",
      "lalli\n"
     ]
    }
   ],
   "source": [
    "for a in user_0.keys():\n",
    "    print(a)\n",
    "   "
   ]
  },
  {
   "cell_type": "code",
   "execution_count": 31,
   "metadata": {},
   "outputs": [
    {
     "name": "stdout",
     "output_type": "stream",
     "text": [
      "python\n",
      "c++\n",
      "java\n",
      "scala\n"
     ]
    }
   ],
   "source": [
    "for b in user_0.values():\n",
    "    print(b)"
   ]
  },
  {
   "cell_type": "code",
   "execution_count": null,
   "metadata": {},
   "outputs": [],
   "source": [
    "#loop- Dictionary\n"
   ]
  },
  {
   "cell_type": "code",
   "execution_count": 4,
   "metadata": {},
   "outputs": [
    {
     "name": "stdout",
     "output_type": "stream",
     "text": [
      "{'harika': 'python', 'kiran': 'c++', 'sarika': 'java', 'lalli': 'scala'}\n"
     ]
    }
   ],
   "source": [
    "fav_lang={'harika':'python','kiran':'c++','sarika':'java','lalli':'scala'}\n",
    "print(fav_lang)"
   ]
  },
  {
   "cell_type": "code",
   "execution_count": 7,
   "metadata": {},
   "outputs": [
    {
     "name": "stdout",
     "output_type": "stream",
     "text": [
      "Harika, Thank you for taking language poll survey\n",
      "Kiran, Thank you for taking language poll survey\n",
      "Lalli, Thank you for taking language poll survey\n",
      "Sarika, Thank you for taking language poll survey\n"
     ]
    }
   ],
   "source": [
    "for name in sorted(fav_lang.keys()):\n",
    "    print(f\"{name.title()}, Thank you for taking language poll survey\")"
   ]
  },
  {
   "cell_type": "code",
   "execution_count": null,
   "metadata": {},
   "outputs": [],
   "source": [
    "#While loop"
   ]
  },
  {
   "cell_type": "code",
   "execution_count": 8,
   "metadata": {},
   "outputs": [
    {
     "name": "stdout",
     "output_type": "stream",
     "text": [
      "1\n",
      "2\n",
      "3\n",
      "4\n",
      "5\n",
      "6\n",
      "7\n",
      "8\n",
      "9\n",
      "10\n"
     ]
    }
   ],
   "source": [
    "current_num=1\n",
    "while current_num<=10:\n",
    "    print(current_num)\n",
    "    current_num+=1"
   ]
  },
  {
   "cell_type": "code",
   "execution_count": null,
   "metadata": {},
   "outputs": [],
   "source": []
  },
  {
   "cell_type": "code",
   "execution_count": null,
   "metadata": {},
   "outputs": [],
   "source": []
  },
  {
   "cell_type": "code",
   "execution_count": null,
   "metadata": {},
   "outputs": [],
   "source": []
  },
  {
   "cell_type": "code",
   "execution_count": null,
   "metadata": {},
   "outputs": [],
   "source": []
  },
  {
   "cell_type": "code",
   "execution_count": null,
   "metadata": {},
   "outputs": [],
   "source": []
  },
  {
   "cell_type": "code",
   "execution_count": null,
   "metadata": {},
   "outputs": [],
   "source": []
  },
  {
   "cell_type": "code",
   "execution_count": null,
   "metadata": {},
   "outputs": [],
   "source": []
  },
  {
   "cell_type": "code",
   "execution_count": null,
   "metadata": {},
   "outputs": [],
   "source": []
  }
 ],
 "metadata": {
  "kernelspec": {
   "display_name": "Python 3",
   "language": "python",
   "name": "python3"
  },
  "language_info": {
   "codemirror_mode": {
    "name": "ipython",
    "version": 3
   },
   "file_extension": ".py",
   "mimetype": "text/x-python",
   "name": "python",
   "nbconvert_exporter": "python",
   "pygments_lexer": "ipython3",
   "version": "3.7.4"
  }
 },
 "nbformat": 4,
 "nbformat_minor": 2
}
