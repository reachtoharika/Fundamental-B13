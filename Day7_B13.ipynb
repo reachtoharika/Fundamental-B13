{
 "cells": [
  {
   "cell_type": "code",
   "execution_count": 2,
   "metadata": {},
   "outputs": [
    {
     "name": "stdout",
     "output_type": "stream",
     "text": [
      "hello worldhow are you\n",
      "how are you\n"
     ]
    }
   ],
   "source": [
    "messgae=input('hello world')\n",
    "print(messgae)"
   ]
  },
  {
   "cell_type": "code",
   "execution_count": 26,
   "metadata": {},
   "outputs": [
    {
     "name": "stdout",
     "output_type": "stream",
     "text": [
      "Please enter your first name:Harika\n",
      "Please enter your last name:Koli\n",
      "\n",
      " Welcome Google login of:HarikaKoli\n"
     ]
    }
   ],
   "source": [
    "fname=input('Please enter your first name:')\n",
    "lname=input('Please enter your last name:')\n",
    "print(f\"\\n Welcome Google login of:{fname}{lname}\")\n",
    "\n"
   ]
  },
  {
   "cell_type": "code",
   "execution_count": 34,
   "metadata": {},
   "outputs": [
    {
     "name": "stdout",
     "output_type": "stream",
     "text": [
      "Please enter your age:11\n",
      "11\n"
     ]
    }
   ],
   "source": [
    "age=input('Please enter your age:')\n",
    "age=int(age)\n",
    "print(age)\n"
   ]
  },
  {
   "cell_type": "markdown",
   "metadata": {},
   "source": []
  },
  {
   "cell_type": "code",
   "execution_count": 40,
   "metadata": {},
   "outputs": [
    {
     "name": "stdout",
     "output_type": "stream",
     "text": [
      "Please enter your age:11\n",
      "not valid age for voting\n"
     ]
    }
   ],
   "source": [
    "age=input('Please enter your age:')\n",
    "age=int(age)\n",
    "\n",
    "if age >=18:\n",
    "    print('valid age for voting') \n",
    "else: \n",
    "    print('not valid age for voting')"
   ]
  },
  {
   "cell_type": "code",
   "execution_count": 41,
   "metadata": {},
   "outputs": [
    {
     "name": "stdout",
     "output_type": "stream",
     "text": [
      "Please enter your age:22\n",
      "valid age for voting\n"
     ]
    }
   ],
   "source": [
    "age=input('Please enter your age:')\n",
    "age=int(age)\n",
    "\n",
    "if age >=18:\n",
    "    print('valid age for voting') \n",
    "else: \n",
    "    print('not valid age for voting')"
   ]
  },
  {
   "cell_type": "code",
   "execution_count": null,
   "metadata": {},
   "outputs": [],
   "source": []
  },
  {
   "cell_type": "code",
   "execution_count": null,
   "metadata": {},
   "outputs": [],
   "source": []
  },
  {
   "cell_type": "code",
   "execution_count": null,
   "metadata": {},
   "outputs": [],
   "source": []
  },
  {
   "cell_type": "code",
   "execution_count": null,
   "metadata": {},
   "outputs": [],
   "source": []
  }
 ],
 "metadata": {
  "kernelspec": {
   "display_name": "Python 3",
   "language": "python",
   "name": "python3"
  },
  "language_info": {
   "codemirror_mode": {
    "name": "ipython",
    "version": 3
   },
   "file_extension": ".py",
   "mimetype": "text/x-python",
   "name": "python",
   "nbconvert_exporter": "python",
   "pygments_lexer": "ipython3",
   "version": "3.7.4"
  }
 },
 "nbformat": 4,
 "nbformat_minor": 2
}
